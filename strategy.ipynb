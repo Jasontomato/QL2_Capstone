{
 "cells": [
  {
   "cell_type": "code",
   "execution_count": 52,
   "metadata": {},
   "outputs": [],
   "source": [
    "import pandas as pd\n",
    "import numpy as np\n",
    "import numpy as np\n",
    "import matplotlib.pyplot as plt"
   ]
  },
  {
   "cell_type": "markdown",
   "metadata": {},
   "source": [
    "### Data Manipulation"
   ]
  },
  {
   "cell_type": "code",
   "execution_count": 51,
   "metadata": {},
   "outputs": [],
   "source": [
    "def dataManipulation(cid):\n",
    "    filePath = r'./dataset/'+str(cid)+'.csv'\n",
    "    df_test = pd.read_csv(filePath)\n",
    "    df_test.drop(columns=['CID','CATEGORY','MANUFACTURER_NAME','PRODUCT_NAME'],inplace=True)\n",
    "    df_test['Grand Total'] = df_test.mean(numeric_only=True, axis=1)\n",
    "    df_test.ffill(inplace=True)\n",
    "    nan_percent =100*(df_test.isnull().sum()/len(df_test))>0.4\n",
    "    nan_value = nan_percent[nan_percent.values==True].index\n",
    "    df_test.drop(columns= nan_value,inplace=True)\n",
    "    return df_test\n",
    "    # df_test.head()"
   ]
  },
  {
   "cell_type": "code",
   "execution_count": 70,
   "metadata": {},
   "outputs": [
    {
     "data": {
      "text/html": [
       "<div>\n",
       "<style scoped>\n",
       "    .dataframe tbody tr th:only-of-type {\n",
       "        vertical-align: middle;\n",
       "    }\n",
       "\n",
       "    .dataframe tbody tr th {\n",
       "        vertical-align: top;\n",
       "    }\n",
       "\n",
       "    .dataframe thead th {\n",
       "        text-align: right;\n",
       "    }\n",
       "</style>\n",
       "<table border=\"1\" class=\"dataframe\">\n",
       "  <thead>\n",
       "    <tr style=\"text-align: right;\">\n",
       "      <th></th>\n",
       "      <th>COLLECTION_DATE</th>\n",
       "      <th>Target</th>\n",
       "      <th>Walmart</th>\n",
       "      <th>Amazon</th>\n",
       "      <th>Grand Total</th>\n",
       "    </tr>\n",
       "  </thead>\n",
       "  <tbody>\n",
       "    <tr>\n",
       "      <th>0</th>\n",
       "      <td>2021-01-01</td>\n",
       "      <td>23.99</td>\n",
       "      <td>23.99</td>\n",
       "      <td>23.99</td>\n",
       "      <td>23.99</td>\n",
       "    </tr>\n",
       "    <tr>\n",
       "      <th>1</th>\n",
       "      <td>2021-01-02</td>\n",
       "      <td>23.99</td>\n",
       "      <td>23.99</td>\n",
       "      <td>23.99</td>\n",
       "      <td>23.99</td>\n",
       "    </tr>\n",
       "    <tr>\n",
       "      <th>2</th>\n",
       "      <td>2021-01-03</td>\n",
       "      <td>23.99</td>\n",
       "      <td>23.99</td>\n",
       "      <td>23.99</td>\n",
       "      <td>23.99</td>\n",
       "    </tr>\n",
       "    <tr>\n",
       "      <th>3</th>\n",
       "      <td>2021-01-04</td>\n",
       "      <td>23.99</td>\n",
       "      <td>23.99</td>\n",
       "      <td>23.99</td>\n",
       "      <td>23.99</td>\n",
       "    </tr>\n",
       "    <tr>\n",
       "      <th>4</th>\n",
       "      <td>2021-01-05</td>\n",
       "      <td>23.99</td>\n",
       "      <td>23.99</td>\n",
       "      <td>23.99</td>\n",
       "      <td>23.99</td>\n",
       "    </tr>\n",
       "  </tbody>\n",
       "</table>\n",
       "</div>"
      ],
      "text/plain": [
       "  COLLECTION_DATE  Target  Walmart  Amazon  Grand Total\n",
       "0      2021-01-01   23.99    23.99   23.99        23.99\n",
       "1      2021-01-02   23.99    23.99   23.99        23.99\n",
       "2      2021-01-03   23.99    23.99   23.99        23.99\n",
       "3      2021-01-04   23.99    23.99   23.99        23.99\n",
       "4      2021-01-05   23.99    23.99   23.99        23.99"
      ]
     },
     "execution_count": 70,
     "metadata": {},
     "output_type": "execute_result"
    }
   ],
   "source": [
    "ddd.head()"
   ]
  },
  {
   "cell_type": "markdown",
   "metadata": {},
   "source": [
    "#### category_index"
   ]
  },
  {
   "cell_type": "code",
   "execution_count": 88,
   "metadata": {},
   "outputs": [
    {
     "name": "stdout",
     "output_type": "stream",
     "text": [
      "  COLLECTION_DATE       CATEGORY  ROUND(AVG(MIN_PRICE),2)    RATE\n",
      "0          1/1/21  Baby Activity                    90.43     NaN\n",
      "1          1/2/21  Baby Activity                    90.36  -0.08%\n",
      "2          1/3/21  Baby Activity                    90.26  -0.11%\n",
      "3          1/4/21  Baby Activity                    90.61   0.39%\n",
      "4          1/5/21  Baby Activity                    91.14   0.58%\n"
     ]
    },
    {
     "data": {
      "text/plain": [
       "count              4697\n",
       "unique                7\n",
       "top       Baby Activity\n",
       "freq                671\n",
       "Name: CATEGORY, dtype: object"
      ]
     },
     "execution_count": 88,
     "metadata": {},
     "output_type": "execute_result"
    }
   ],
   "source": [
    "dfcate = pd.read_csv(r'./dataset/CATEGORY CHANGE.csv')\n",
    "print(dfcate.head())\n",
    "dfcate['CATEGORY'].describe()"
   ]
  },
  {
   "cell_type": "markdown",
   "metadata": {},
   "source": [
    "### Functions"
   ]
  },
  {
   "cell_type": "code",
   "execution_count": 1,
   "metadata": {},
   "outputs": [],
   "source": [
    "# get platform name, return excepted price strategy each day from Grand Total\n",
    "def strategy_one(df,colName):\n",
    "    dataFrame =df.copy(deep=True) # get a copy of origin dataframe, so the following editting won't change origin\n",
    "    newColName = 'startegy1'+colName #define: column name = strategy+platform \n",
    "    dataFrame[newColName] = dataFrame['Grand Total']\n",
    "    return dataFrame,newColName\n"
   ]
  },
  {
   "cell_type": "code",
   "execution_count": 2,
   "metadata": {},
   "outputs": [],
   "source": [
    "# get platform name,dataframe, return excepted price strategy each day from rolling five days\n",
    "def strategy_two(df,colName):\n",
    "    dataFrame =df.copy(deep=True)\n",
    "    newColName = 'startegy2'+colName\n",
    "    dataFrame[newColName] = dataFrame['Grand Total'].rolling(5,min_periods=1).mean()\n",
    "    return dataFrame,newColName\n"
   ]
  },
  {
   "cell_type": "code",
   "execution_count": 26,
   "metadata": {},
   "outputs": [],
   "source": [
    "# get platform name,dataframe,\n",
    "# each day extreme price difference\n",
    "# return expected dataframe, new column name\n",
    "def strategy_three(df,colName):\n",
    "    dataFrame =df.copy(deep=True)\n",
    "    newColName = 'startegy3'+colName\n",
    "    dataFrame[newColName] = dataFrame[colName]+dataFrame['Amazon']-dataFrame['Target']\n",
    "    return dataFrame,newColName"
   ]
  },
  {
   "cell_type": "code",
   "execution_count": 69,
   "metadata": {},
   "outputs": [],
   "source": [
    "def strategy_threepointfive(df,colName):\n",
    "    dataFrame =df.copy(deep=True)\n",
    "    newColName = 'startegy3.5'+colName\n",
    "    # 按目标平台价格变动百分比，变动\n",
    "    dataFrame[newColName] = dataFrame[colName]*(1+((dataFrame['Amazon']-dataFrame['Amazon'].shift(1))/dataFrame['Amazon'].shift(1)))\n",
    "    return dataFrame,newColName"
   ]
  },
  {
   "cell_type": "code",
   "execution_count": 80,
   "metadata": {},
   "outputs": [],
   "source": [
    "# get platform name,dataframe,cost percentage in total price\n",
    "# current avg product price *0.8 = cost, using cost as model baseline  \n",
    "# return expected dataframe, new column name\n",
    "def strategy_four(df,colName,costPercentage =0.8):\n",
    "    dataFrame =df.copy(deep=True)\n",
    "    newColName = 'startegy4'+colName\n",
    "    \n",
    "    def baseToMean(curPrice, Grand):\n",
    "        if curPrice*costPercentage >Grand:\n",
    "            return curPrice*costPercentage\n",
    "        else:\n",
    "            return Grand\n",
    "    dataFrame[newColName] = dataFrame[[colName,'Grand Total']].apply(lambda x:baseToMean(x[colName],x['Grand Total']),axis =1)\n",
    "\n",
    "    return dataFrame,newColName"
   ]
  },
  {
   "cell_type": "code",
   "execution_count": null,
   "metadata": {},
   "outputs": [],
   "source": [
    "def strategy_five(df,colName,costPercentage =0.8):"
   ]
  },
  {
   "cell_type": "code",
   "execution_count": 4,
   "metadata": {},
   "outputs": [],
   "source": [
    "def demandRevenue(dataframe, colName):\n",
    "    df =  dataframe.copy(deep=True)\n",
    "    df['Demand'+colName]=round(100-0.7*df[colName]+0.5*(df[\"Grand Total\"]-df[colName]))\n",
    "    df['Revenue'+colName]=df['Demand'+colName]*df[colName]\n",
    "    return df"
   ]
  },
  {
   "cell_type": "markdown",
   "metadata": {},
   "source": [
    "### WorkFlow\n",
    "- require for platform name\n",
    "- calculate the origin demands and revenue\n",
    "- calcualte three strategies' demands and revenue\n",
    "- visualize the outcome"
   ]
  },
  {
   "cell_type": "code",
   "execution_count": 56,
   "metadata": {},
   "outputs": [],
   "source": [
    "def workflow():\n",
    "    PlatName = input('plz input platform name')\n",
    "    df_test = dataManipulation(input('plz input cid'))\n",
    "    df1 = df_test.copy(deep=True)\n",
    "    if PlatName not in df1.columns:\n",
    "        print('please input the existed platform')\n",
    "        return 0\n",
    "    df2=demandRevenue(df1,PlatName)\n",
    "    df2, c3name= strategy_three(df2,PlatName)\n",
    "    df3= demandRevenue(df2,c3name)\n",
    "    df3, c2name= strategy_two(df3,PlatName)\n",
    "    df4 =demandRevenue(df3,c2name)\n",
    "    df4, c1name= strategy_one(df4,PlatName)\n",
    "    df5 =demandRevenue(df4,c1name)\n",
    "    #df5.head()\n",
    "\n",
    "    ori_revenue = df5['Revenue'+PlatName].sum()\n",
    "    revenue1=(df5['Revenue'+c1name]).sum()-ori_revenue\n",
    "    revenue2=(df5['Revenue'+c2name]).sum()-ori_revenue\n",
    "    revenue3=(df5['Revenue'+c3name]).sum()-ori_revenue\n",
    "    revenueCompare = {'strategy1':round(revenue1,2),'strategy2':round(revenue2,2),'strategy3':round(revenue3,2)}\n",
    "    max_value =str(max(revenueCompare,key=revenueCompare.get))+': '+str(max(revenueCompare.values()))\n",
    "    \n",
    "    print(revenueCompare)\n",
    "    print(max_value)\n",
    "    \n"
   ]
  },
  {
   "cell_type": "code",
   "execution_count": 57,
   "metadata": {},
   "outputs": [
    {
     "name": "stdout",
     "output_type": "stream",
     "text": [
      "{'strategy1': 450725.87, 'strategy2': 452470.01, 'strategy3': 824141.07}\n",
      "strategy3: 824141.07\n"
     ]
    }
   ],
   "source": [
    "'''Input:\n",
    "        CID\n",
    "        Demand_index\n",
    "        Platform\n",
    "        Strategy'''\n",
    "\n",
    "result =workflow()"
   ]
  },
  {
   "cell_type": "code",
   "execution_count": 58,
   "metadata": {},
   "outputs": [
    {
     "data": {
      "text/html": [
       "<div>\n",
       "<style scoped>\n",
       "    .dataframe tbody tr th:only-of-type {\n",
       "        vertical-align: middle;\n",
       "    }\n",
       "\n",
       "    .dataframe tbody tr th {\n",
       "        vertical-align: top;\n",
       "    }\n",
       "\n",
       "    .dataframe thead th {\n",
       "        text-align: right;\n",
       "    }\n",
       "</style>\n",
       "<table border=\"1\" class=\"dataframe\">\n",
       "  <thead>\n",
       "    <tr style=\"text-align: right;\">\n",
       "      <th></th>\n",
       "      <th>COLLECTION_DATE</th>\n",
       "      <th>Target</th>\n",
       "      <th>Walmart</th>\n",
       "      <th>Amazon</th>\n",
       "      <th>Grand Total</th>\n",
       "      <th>DemandTarget</th>\n",
       "      <th>RevenueTarget</th>\n",
       "      <th>startegy3Target</th>\n",
       "      <th>Demandstartegy3Target</th>\n",
       "      <th>Revenuestartegy3Target</th>\n",
       "      <th>startegy2Target</th>\n",
       "      <th>Demandstartegy2Target</th>\n",
       "      <th>Revenuestartegy2Target</th>\n",
       "      <th>startegy1Target</th>\n",
       "      <th>Demandstartegy1Target</th>\n",
       "      <th>Revenuestartegy1Target</th>\n",
       "    </tr>\n",
       "  </thead>\n",
       "  <tbody>\n",
       "    <tr>\n",
       "      <th>0</th>\n",
       "      <td>2021-01-01</td>\n",
       "      <td>8.99</td>\n",
       "      <td>39.94</td>\n",
       "      <td>23.98</td>\n",
       "      <td>24.303333</td>\n",
       "      <td>101.0</td>\n",
       "      <td>907.99</td>\n",
       "      <td>23.98</td>\n",
       "      <td>83.0</td>\n",
       "      <td>1990.34</td>\n",
       "      <td>24.303333</td>\n",
       "      <td>83.0</td>\n",
       "      <td>2017.176667</td>\n",
       "      <td>24.303333</td>\n",
       "      <td>83.0</td>\n",
       "      <td>2017.176667</td>\n",
       "    </tr>\n",
       "    <tr>\n",
       "      <th>1</th>\n",
       "      <td>2021-01-02</td>\n",
       "      <td>8.99</td>\n",
       "      <td>39.94</td>\n",
       "      <td>23.98</td>\n",
       "      <td>24.303333</td>\n",
       "      <td>101.0</td>\n",
       "      <td>907.99</td>\n",
       "      <td>23.98</td>\n",
       "      <td>83.0</td>\n",
       "      <td>1990.34</td>\n",
       "      <td>24.303333</td>\n",
       "      <td>83.0</td>\n",
       "      <td>2017.176667</td>\n",
       "      <td>24.303333</td>\n",
       "      <td>83.0</td>\n",
       "      <td>2017.176667</td>\n",
       "    </tr>\n",
       "    <tr>\n",
       "      <th>2</th>\n",
       "      <td>2021-01-03</td>\n",
       "      <td>8.99</td>\n",
       "      <td>39.94</td>\n",
       "      <td>23.97</td>\n",
       "      <td>24.300000</td>\n",
       "      <td>101.0</td>\n",
       "      <td>907.99</td>\n",
       "      <td>23.97</td>\n",
       "      <td>83.0</td>\n",
       "      <td>1989.51</td>\n",
       "      <td>24.302222</td>\n",
       "      <td>83.0</td>\n",
       "      <td>2017.084444</td>\n",
       "      <td>24.300000</td>\n",
       "      <td>83.0</td>\n",
       "      <td>2016.900000</td>\n",
       "    </tr>\n",
       "    <tr>\n",
       "      <th>3</th>\n",
       "      <td>2021-01-04</td>\n",
       "      <td>8.99</td>\n",
       "      <td>39.94</td>\n",
       "      <td>23.97</td>\n",
       "      <td>24.300000</td>\n",
       "      <td>101.0</td>\n",
       "      <td>907.99</td>\n",
       "      <td>23.97</td>\n",
       "      <td>83.0</td>\n",
       "      <td>1989.51</td>\n",
       "      <td>24.301667</td>\n",
       "      <td>83.0</td>\n",
       "      <td>2017.038333</td>\n",
       "      <td>24.300000</td>\n",
       "      <td>83.0</td>\n",
       "      <td>2016.900000</td>\n",
       "    </tr>\n",
       "    <tr>\n",
       "      <th>4</th>\n",
       "      <td>2021-01-05</td>\n",
       "      <td>8.99</td>\n",
       "      <td>39.94</td>\n",
       "      <td>23.97</td>\n",
       "      <td>24.300000</td>\n",
       "      <td>101.0</td>\n",
       "      <td>907.99</td>\n",
       "      <td>23.97</td>\n",
       "      <td>83.0</td>\n",
       "      <td>1989.51</td>\n",
       "      <td>24.301333</td>\n",
       "      <td>83.0</td>\n",
       "      <td>2017.010667</td>\n",
       "      <td>24.300000</td>\n",
       "      <td>83.0</td>\n",
       "      <td>2016.900000</td>\n",
       "    </tr>\n",
       "  </tbody>\n",
       "</table>\n",
       "</div>"
      ],
      "text/plain": [
       "  COLLECTION_DATE  Target  Walmart  Amazon  Grand Total  DemandTarget  \\\n",
       "0      2021-01-01    8.99    39.94   23.98    24.303333         101.0   \n",
       "1      2021-01-02    8.99    39.94   23.98    24.303333         101.0   \n",
       "2      2021-01-03    8.99    39.94   23.97    24.300000         101.0   \n",
       "3      2021-01-04    8.99    39.94   23.97    24.300000         101.0   \n",
       "4      2021-01-05    8.99    39.94   23.97    24.300000         101.0   \n",
       "\n",
       "   RevenueTarget  startegy3Target  Demandstartegy3Target  \\\n",
       "0         907.99            23.98                   83.0   \n",
       "1         907.99            23.98                   83.0   \n",
       "2         907.99            23.97                   83.0   \n",
       "3         907.99            23.97                   83.0   \n",
       "4         907.99            23.97                   83.0   \n",
       "\n",
       "   Revenuestartegy3Target  startegy2Target  Demandstartegy2Target  \\\n",
       "0                 1990.34        24.303333                   83.0   \n",
       "1                 1990.34        24.303333                   83.0   \n",
       "2                 1989.51        24.302222                   83.0   \n",
       "3                 1989.51        24.301667                   83.0   \n",
       "4                 1989.51        24.301333                   83.0   \n",
       "\n",
       "   Revenuestartegy2Target  startegy1Target  Demandstartegy1Target  \\\n",
       "0             2017.176667        24.303333                   83.0   \n",
       "1             2017.176667        24.303333                   83.0   \n",
       "2             2017.084444        24.300000                   83.0   \n",
       "3             2017.038333        24.300000                   83.0   \n",
       "4             2017.010667        24.300000                   83.0   \n",
       "\n",
       "   Revenuestartegy1Target  \n",
       "0             2017.176667  \n",
       "1             2017.176667  \n",
       "2             2016.900000  \n",
       "3             2016.900000  \n",
       "4             2016.900000  "
      ]
     },
     "execution_count": 58,
     "metadata": {},
     "output_type": "execute_result"
    }
   ],
   "source": [
    "result.head()"
   ]
  },
  {
   "cell_type": "markdown",
   "metadata": {},
   "source": [
    "### Visualization"
   ]
  },
  {
   "cell_type": "code",
   "execution_count": 66,
   "metadata": {},
   "outputs": [
    {
     "data": {
      "image/png": "[encoded data removed]",
      "text/plain": [
       "<Figure size 800x600 with 2 Axes>"
      ]
     },
     "metadata": {
      "needs_background": "light"
     },
     "output_type": "display_data"
    }
   ],
   "source": [
    "# x：日期 datatype: datetime\n",
    "# y1：不同策略revenue差值 series\n",
    "# y2: 该策略的价格 series\n",
    "def Visualization(x ,y1,y2):   \n",
    "    # df2 = result\n",
    "    fig = plt.figure(figsize=(8, 6), dpi=100)\n",
    "    ax1 = fig.add_subplot(111)\n",
    "    ax1.fill_between(x, np.cumsum(y1), color=\"skyblue\", alpha=0.2, label=\"Cumulative Difference\")\n",
    "    ax1.plot(x, np.cumsum(y1), color=\"Slateblue\", alpha=0.6)\n",
    "    ax1.legend(loc=\"upper left\")\n",
    "    ax1.set_ylabel('Revenue Contribution')\n",
    "    ax1.set_xlabel('Date')\n",
    "    ax2 = ax1.twinx()  # this is the important function\n",
    "    ax2.plot(x, y2, color='darkorange',alpha=0.7, label=\"Price\")\n",
    "    ax2.legend(loc=\"upper center\")\n",
    "    ax2.set_ylabel('Price')\n",
    "    plt.xticks(pd.date_range('2020-06','2022-12',freq='4m'))\n",
    "    plt.show()\n",
    "\n",
    "Visualization(pd.to_datetime(result['COLLECTION_DATE']),result['Revenuestartegy3Target']-result['RevenueTarget'],result['startegy3Target'])"
   ]
  },
  {
   "cell_type": "code",
   "execution_count": 82,
   "metadata": {},
   "outputs": [
    {
     "data": {
      "image/png": "[encoded data removed]",
      "text/plain": [
       "<Figure size 600x400 with 1 Axes>"
      ]
     },
     "metadata": {
      "needs_background": "light"
     },
     "output_type": "display_data"
    }
   ],
   "source": [
    "# origin: origin revenue \n",
    "# revenueS1..3 : Total revenue for strategy 1 to 3\n",
    "#                datatype: Dataframe\n",
    "def visualizeRevenue(origin,revenueS1,revenueS2,revenueS3):\n",
    "    label=['original', 'strategy1','strategy2','strategy3']\n",
    "    revenue_value=[origin.sum(),revenueS1.sum(),revenueS2.sum(),revenueS3.sum()]\n",
    "    fig = plt.figure(figsize=(6, 4), dpi=100)\n",
    "    plt.bar(label,revenue_value, color='skyblue')\n",
    "    plt.axhline(origin.sum(),color='black',alpha=0.7,linestyle='--')\n",
    "    plt.title(\"Total revenue of different strategies\")\n",
    "visualizeRevenue(result['RevenueTarget'],result['Revenuestartegy1Target'],result['Revenuestartegy2Target'],result['Revenuestartegy3Target'])"
   ]
  }
 ],
 "metadata": {
  "kernelspec": {
   "display_name": "Python 3.8.8 ('base')",
   "language": "python",
   "name": "python3"
  },
  "language_info": {
   "codemirror_mode": {
    "name": "ipython",
    "version": 3
   },
   "file_extension": ".py",
   "mimetype": "text/x-python",
   "name": "python",
   "nbconvert_exporter": "python",
   "pygments_lexer": "ipython3",
   "version": "3.8.8"
  },
  "orig_nbformat": 4,
  "vscode": {
   "interpreter": {
    "hash": "ad2bdc8ecc057115af97d19610ffacc2b4e99fae6737bb82f5d7fb13d2f2c186"
   }
  }
 },
 "nbformat": 4,
 "nbformat_minor": 2
}
