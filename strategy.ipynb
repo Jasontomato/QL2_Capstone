{
 "cells": [
  {
   "cell_type": "markdown",
   "metadata": {},
   "source": [
    "### Reference"
   ]
  },
  {
   "cell_type": "code",
   "execution_count": 1,
   "metadata": {},
   "outputs": [],
   "source": [
    "import pandas as pd\n",
    "import numpy as np\n",
    "import seaborn as sns\n",
    "from os import path\n",
    "import matplotlib.pyplot as plt"
   ]
  },
  {
   "cell_type": "markdown",
   "metadata": {},
   "source": [
    "### Data Manipulation"
   ]
  },
  {
   "cell_type": "code",
   "execution_count": 2,
   "metadata": {},
   "outputs": [],
   "source": [
    "def dataManipulation(cid):\n",
    "    filePath = r'./dataset/'+str(cid)+'.csv'\n",
    "    if not path.exists(filePath): # 判断cid是否正确\n",
    "        print('please input correct CID')\n",
    "        return \n",
    "    df_test = pd.read_csv(filePath)\n",
    "    #df_test.drop(columns=['CID','CATEGORY','MANUFACTURER_NAME','PRODUCT_NAME'],inplace=True)\n",
    "    df_test.drop(columns=['CID','MANUFACTURER_NAME','PRODUCT_NAME'],inplace=True)\n",
    "    df_test['Grand Total'] = df_test.mean(numeric_only=True, axis=1)\n",
    "    df_test.ffill(inplace=True)\n",
    "    nan_percent =100*(df_test.isnull().sum()/len(df_test))>0.4\n",
    "    nan_value = nan_percent[nan_percent.values==True].index\n",
    "    df_test.drop(columns= nan_value,inplace=True)\n",
    "    df_test['COLLECTION_DATE'] = pd.to_datetime(df_test['COLLECTION_DATE']) # transform date into proper type\n",
    "    return df_test\n",
    "    # df_test.head()"
   ]
  },
  {
   "cell_type": "code",
   "execution_count": 3,
   "metadata": {},
   "outputs": [
    {
     "data": {
      "text/html": [
       "<div>\n",
       "<style scoped>\n",
       "    .dataframe tbody tr th:only-of-type {\n",
       "        vertical-align: middle;\n",
       "    }\n",
       "\n",
       "    .dataframe tbody tr th {\n",
       "        vertical-align: top;\n",
       "    }\n",
       "\n",
       "    .dataframe thead th {\n",
       "        text-align: right;\n",
       "    }\n",
       "</style>\n",
       "<table border=\"1\" class=\"dataframe\">\n",
       "  <thead>\n",
       "    <tr style=\"text-align: right;\">\n",
       "      <th></th>\n",
       "      <th>COLLECTION_DATE</th>\n",
       "      <th>CATEGORY</th>\n",
       "      <th>Target</th>\n",
       "      <th>Walmart</th>\n",
       "      <th>Amazon</th>\n",
       "      <th>Grand Total</th>\n",
       "    </tr>\n",
       "  </thead>\n",
       "  <tbody>\n",
       "    <tr>\n",
       "      <th>0</th>\n",
       "      <td>2021-01-01</td>\n",
       "      <td>Baby Nursing And Feeding</td>\n",
       "      <td>23.99</td>\n",
       "      <td>23.99</td>\n",
       "      <td>23.99</td>\n",
       "      <td>23.99</td>\n",
       "    </tr>\n",
       "    <tr>\n",
       "      <th>1</th>\n",
       "      <td>2021-01-02</td>\n",
       "      <td>Baby Nursing And Feeding</td>\n",
       "      <td>23.99</td>\n",
       "      <td>23.99</td>\n",
       "      <td>23.99</td>\n",
       "      <td>23.99</td>\n",
       "    </tr>\n",
       "    <tr>\n",
       "      <th>2</th>\n",
       "      <td>2021-01-03</td>\n",
       "      <td>Baby Nursing And Feeding</td>\n",
       "      <td>23.99</td>\n",
       "      <td>23.99</td>\n",
       "      <td>23.99</td>\n",
       "      <td>23.99</td>\n",
       "    </tr>\n",
       "    <tr>\n",
       "      <th>3</th>\n",
       "      <td>2021-01-04</td>\n",
       "      <td>Baby Nursing And Feeding</td>\n",
       "      <td>23.99</td>\n",
       "      <td>23.99</td>\n",
       "      <td>23.99</td>\n",
       "      <td>23.99</td>\n",
       "    </tr>\n",
       "    <tr>\n",
       "      <th>4</th>\n",
       "      <td>2021-01-05</td>\n",
       "      <td>Baby Nursing And Feeding</td>\n",
       "      <td>23.99</td>\n",
       "      <td>23.99</td>\n",
       "      <td>23.99</td>\n",
       "      <td>23.99</td>\n",
       "    </tr>\n",
       "  </tbody>\n",
       "</table>\n",
       "</div>"
      ],
      "text/plain": [
       "  COLLECTION_DATE                  CATEGORY  Target  Walmart  Amazon  \\\n",
       "0      2021-01-01  Baby Nursing And Feeding   23.99    23.99   23.99   \n",
       "1      2021-01-02  Baby Nursing And Feeding   23.99    23.99   23.99   \n",
       "2      2021-01-03  Baby Nursing And Feeding   23.99    23.99   23.99   \n",
       "3      2021-01-04  Baby Nursing And Feeding   23.99    23.99   23.99   \n",
       "4      2021-01-05  Baby Nursing And Feeding   23.99    23.99   23.99   \n",
       "\n",
       "   Grand Total  \n",
       "0        23.99  \n",
       "1        23.99  \n",
       "2        23.99  \n",
       "3        23.99  \n",
       "4        23.99  "
      ]
     },
     "execution_count": 3,
     "metadata": {},
     "output_type": "execute_result"
    }
   ],
   "source": [
    "ddd = dataManipulation(5280102)\n",
    "ddd.head()"
   ]
  },
  {
   "cell_type": "markdown",
   "metadata": {},
   "source": [
    "#### category_index"
   ]
  },
  {
   "cell_type": "code",
   "execution_count": 4,
   "metadata": {},
   "outputs": [],
   "source": [
    "# dfcate = pd.read_csv(r'./dataset/CATEGORY CHANGE.csv')\n",
    "# print(dfcate.head())\n",
    "# dfCategory = pd.merge(ddd,dfcate,how='left',left_on=['COLLECTION_DATE','CATEGORY'],right_on=['COLLECTION_DATE','CATEGORY'])\n",
    "# print(dfCategory.head())"
   ]
  },
  {
   "cell_type": "markdown",
   "metadata": {},
   "source": [
    "### Functions"
   ]
  },
  {
   "cell_type": "code",
   "execution_count": 5,
   "metadata": {},
   "outputs": [],
   "source": [
    "# get platform name, return excepted price strategy each day from Grand Total\n",
    "def strategy_one(df,colName):\n",
    "    dataFrame =df.copy(deep=True) # get a copy of origin dataframe, so the following editting won't change origin\n",
    "    newColName = 'strategy1'+colName #define: column name = strategy+platform \n",
    "    dataFrame[newColName] = dataFrame['Grand Total']\n",
    "    return dataFrame,newColName\n"
   ]
  },
  {
   "cell_type": "code",
   "execution_count": 6,
   "metadata": {},
   "outputs": [],
   "source": [
    "# get platform name,dataframe, return excepted price strategy each day from rolling five days\n",
    "def strategy_two(df,colName):\n",
    "    dataFrame =df.copy(deep=True)\n",
    "    newColName = 'strategy2'+colName\n",
    "    dataFrame[newColName] = dataFrame['Grand Total'].rolling(5,min_periods=1).mean()\n",
    "    return dataFrame,newColName\n"
   ]
  },
  {
   "cell_type": "code",
   "execution_count": 7,
   "metadata": {},
   "outputs": [],
   "source": [
    "# get platform name,dataframe,\n",
    "# each day extreme price difference\n",
    "# return expected dataframe, new column name\n",
    "def strategy_three(df,colName):\n",
    "    dataFrame =df.copy(deep=True)\n",
    "    newColName = 'strategy3'+colName\n",
    "    dataFrame[newColName] = dataFrame[colName]+dataFrame['Amazon']-dataFrame['Target']\n",
    "    return dataFrame,newColName"
   ]
  },
  {
   "cell_type": "code",
   "execution_count": 8,
   "metadata": {},
   "outputs": [],
   "source": [
    "def strategy_threepointfive(df,colName):\n",
    "    dataFrame =df.copy(deep=True)\n",
    "    newColName = 'strategy3.5'+colName\n",
    "    # 按目标平台价格变动百分比，变动\n",
    "    dataFrame[newColName] = dataFrame[colName]*(1+((dataFrame['Amazon']-dataFrame['Amazon'].shift(1))/dataFrame['Amazon'].shift(1)))\n",
    "    return dataFrame,newColName"
   ]
  },
  {
   "cell_type": "code",
   "execution_count": 9,
   "metadata": {},
   "outputs": [],
   "source": [
    "# get platform name,dataframe,cost percentage in total price\n",
    "# current avg product price *0.8 = cost, using cost as model baseline  \n",
    "# return expected dataframe, new column name\n",
    "def strategy_four(df,colName,costPercentage =0.8):\n",
    "    dataFrame =df.copy(deep=True)\n",
    "    newColName = 'strategy4'+colName\n",
    "    \n",
    "    def baseToMean(curPrice, Grand):\n",
    "        if curPrice*costPercentage >Grand:\n",
    "            return curPrice*costPercentage\n",
    "        else:\n",
    "            return Grand\n",
    "    dataFrame[newColName] = dataFrame[[colName,'Grand Total']].apply(lambda x:baseToMean(x[colName],x['Grand Total']),axis =1)\n",
    "\n",
    "    return dataFrame,newColName"
   ]
  },
  {
   "cell_type": "code",
   "execution_count": 10,
   "metadata": {},
   "outputs": [],
   "source": [
    "# input: pDf:product dataframe must include category Rate\n",
    "#        \n",
    "# output:\n",
    "#        new product price vary with category index\n",
    "\n",
    "\n",
    "def strategy_five(pDf,colName):\n",
    "    productDf = pDf.copy(deep=True)\n",
    "    productDf['RATE'] = productDf['RATE'].str.rstrip('%').astype('float') / 100.0\n",
    "    productDf['RATE'].fillna(0.0,inplace =True)\n",
    "    #dfCategory = pd.merge(productDf,cateDf,how='left',left_on=['COLLECTION_DATE','CATEGORY'],right_on=['COLLECTION_DATE','CATEGORY'])\n",
    "    newColName = 'strategy5'+colName\n",
    "    productDf[newColName] = productDf[colName]*(1+productDf['RATE'])\n",
    "    return productDf,newColName"
   ]
  },
  {
   "cell_type": "code",
   "execution_count": 11,
   "metadata": {},
   "outputs": [],
   "source": [
    "def demandRevenue(dataframe, colName):\n",
    "    df =  dataframe.copy(deep=True)\n",
    "    df['Demand'+colName]=100-0.7*df[colName]+0.5*(df[\"Grand Total\"]-df[colName])\n",
    "    df['Revenue'+colName]=df['Demand'+colName]*df[colName]\n",
    "    return df"
   ]
  },
  {
   "cell_type": "markdown",
   "metadata": {},
   "source": [
    "### WorkFlow\n",
    "- require for platform name\n",
    "- calculate the origin demands and revenue\n",
    "- calcualte three strategies' demands and revenue\n",
    "- visualize the outcome"
   ]
  },
  {
   "cell_type": "code",
   "execution_count": 32,
   "metadata": {},
   "outputs": [],
   "source": [
    "def workflow():\n",
    "    #PlatName = input('plz input platform name')\n",
    "    PlatName = 'Amazon'\n",
    "    df_test = dataManipulation('5237383')\n",
    "    df1 = df_test.copy(deep=True)\n",
    "    if PlatName not in df1.columns:\n",
    "        print('please input the existed platform')\n",
    "        return 0\n",
    "    df2=demandRevenue(df1,PlatName)\n",
    "    df2, c3name= strategy_three(df2,PlatName)\n",
    "    df3= demandRevenue(df2,c3name)\n",
    "    df3, c2name= strategy_two(df3,PlatName)\n",
    "    df4 =demandRevenue(df3,c2name)\n",
    "    df4, c1name= strategy_one(df4,PlatName)\n",
    "    df5 =demandRevenue(df4,c1name)\n",
    "    df5, c4name= strategy_four(df5,PlatName)\n",
    "    df6 =demandRevenue(df5,c4name)\n",
    "\n",
    "    #data prepare for strategy five\n",
    "    dfcate = pd.read_csv(r'./dataset/CATEGORY CHANGE.csv')\n",
    "    dfcate['COLLECTION_DATE']=pd.to_datetime(dfcate['COLLECTION_DATE'])\n",
    "    dfCategory = pd.merge(df6,dfcate,how='left',left_on=['COLLECTION_DATE','CATEGORY'],right_on=['COLLECTION_DATE','CATEGORY'])\n",
    "   \n",
    "    df6, c5name= strategy_five(dfCategory,PlatName)\n",
    "    df7 =demandRevenue(df6,c5name)\n",
    "    #df5.head()\n",
    "\n",
    "    ori_revenue = df7['Revenue'+PlatName].sum()\n",
    "    revenue1=(df7['Revenue'+c1name]).sum()-ori_revenue\n",
    "    revenue2=(df7['Revenue'+c2name]).sum()-ori_revenue\n",
    "    revenue3=(df7['Revenue'+c3name]).sum()-ori_revenue\n",
    "    revenue4=(df7['Revenue'+c4name]).sum()-ori_revenue\n",
    "    revenue5=(df7['Revenue'+c5name]).sum()-ori_revenue\n",
    "    revenueCompare = {'strategy1':round(revenue1,2),\n",
    "                        'strategy2':round(revenue2,2),\n",
    "                        'strategy3':round(revenue3,2),\n",
    "                        'strategy4':round(revenue4,2),\n",
    "                        'strategy5':round(revenue5,2)}\n",
    "    max_key = str(max(revenueCompare,key=revenueCompare.get))\n",
    "    max_value = str(max(revenueCompare.values()))\n",
    "    max_strategy =max_key+': '+max_value\n",
    "    \n",
    "    print(revenueCompare)\n",
    "    print(max_strategy)\n",
    "    print(Visualization(pd.to_datetime(df7['COLLECTION_DATE']),df7['Revenue'+ max_key+PlatName]-df7['Revenue'+PlatName],df7[max_key+PlatName]))\n",
    "    #print(visualizeRevenue(df7['Revenue'+PlatName],df7['Revenuestrategy1'+PlatName],df7['Revenuestrategy2'+PlatName],df7['Revenuestrategy3'+PlatName]))\n",
    "    return df7\n"
   ]
  },
  {
   "cell_type": "code",
   "execution_count": 33,
   "metadata": {},
   "outputs": [
    {
     "name": "stdout",
     "output_type": "stream",
     "text": [
      "{'strategy1': -376699.29, 'strategy2': -374862.79, 'strategy3': 177788.8, 'strategy4': -146777.3, 'strategy5': -151.58}\n",
      "strategy3: 177788.8\n"
     ]
    },
    {
     "ename": "KeyError",
     "evalue": "'Revenuestrategy3Amazon'",
     "output_type": "error",
     "traceback": [
      "\u001b[1;31m---------------------------------------------------------------------------\u001b[0m",
      "\u001b[1;31mKeyError\u001b[0m                                  Traceback (most recent call last)",
      "File \u001b[1;32mc:\\ProgramData\\Anaconda3\\lib\\site-packages\\pandas\\core\\indexes\\base.py:3080\u001b[0m, in \u001b[0;36mIndex.get_loc\u001b[1;34m(self, key, method, tolerance)\u001b[0m\n\u001b[0;32m   3079\u001b[0m \u001b[39mtry\u001b[39;00m:\n\u001b[1;32m-> 3080\u001b[0m     \u001b[39mreturn\u001b[39;00m \u001b[39mself\u001b[39;49m\u001b[39m.\u001b[39;49m_engine\u001b[39m.\u001b[39;49mget_loc(casted_key)\n\u001b[0;32m   3081\u001b[0m \u001b[39mexcept\u001b[39;00m \u001b[39mKeyError\u001b[39;00m \u001b[39mas\u001b[39;00m err:\n",
      "File \u001b[1;32mpandas\\_libs\\index.pyx:70\u001b[0m, in \u001b[0;36mpandas._libs.index.IndexEngine.get_loc\u001b[1;34m()\u001b[0m\n",
      "File \u001b[1;32mpandas\\_libs\\index.pyx:101\u001b[0m, in \u001b[0;36mpandas._libs.index.IndexEngine.get_loc\u001b[1;34m()\u001b[0m\n",
      "File \u001b[1;32mpandas\\_libs\\hashtable_class_helper.pxi:4554\u001b[0m, in \u001b[0;36mpandas._libs.hashtable.PyObjectHashTable.get_item\u001b[1;34m()\u001b[0m\n",
      "File \u001b[1;32mpandas\\_libs\\hashtable_class_helper.pxi:4562\u001b[0m, in \u001b[0;36mpandas._libs.hashtable.PyObjectHashTable.get_item\u001b[1;34m()\u001b[0m\n",
      "\u001b[1;31mKeyError\u001b[0m: 'Revenuestrategy3Amazon'",
      "\nThe above exception was the direct cause of the following exception:\n",
      "\u001b[1;31mKeyError\u001b[0m                                  Traceback (most recent call last)",
      "Cell \u001b[1;32mIn[33], line 7\u001b[0m\n\u001b[0;32m      1\u001b[0m \u001b[39m'''Input:\u001b[39;00m\n\u001b[0;32m      2\u001b[0m \u001b[39m        CID\u001b[39;00m\n\u001b[0;32m      3\u001b[0m \u001b[39m        Demand_index\u001b[39;00m\n\u001b[0;32m      4\u001b[0m \u001b[39m        Platform\u001b[39;00m\n\u001b[0;32m      5\u001b[0m \u001b[39m        Strategy'''\u001b[39;00m\n\u001b[1;32m----> 7\u001b[0m result \u001b[39m=\u001b[39m workflow()\n",
      "Cell \u001b[1;32mIn[32], line 45\u001b[0m, in \u001b[0;36mworkflow\u001b[1;34m()\u001b[0m\n\u001b[0;32m     43\u001b[0m \u001b[39mprint\u001b[39m(revenueCompare)\n\u001b[0;32m     44\u001b[0m \u001b[39mprint\u001b[39m(max_strategy)\n\u001b[1;32m---> 45\u001b[0m \u001b[39mprint\u001b[39m(Visualization(pd\u001b[39m.\u001b[39mto_datetime(df7[\u001b[39m'\u001b[39m\u001b[39mCOLLECTION_DATE\u001b[39m\u001b[39m'\u001b[39m]),df7[\u001b[39m'\u001b[39;49m\u001b[39mRevenue\u001b[39;49m\u001b[39m'\u001b[39;49m\u001b[39m+\u001b[39;49m max_key\u001b[39m+\u001b[39;49mPlatName]\u001b[39m-\u001b[39mdf7[\u001b[39m'\u001b[39m\u001b[39mRevenue\u001b[39m\u001b[39m'\u001b[39m\u001b[39m+\u001b[39mPlatName],df7[max_key\u001b[39m+\u001b[39mPlatName]))\n\u001b[0;32m     46\u001b[0m \u001b[39mprint\u001b[39m(visualizeRevenue(df7[\u001b[39m'\u001b[39m\u001b[39mRevenue\u001b[39m\u001b[39m'\u001b[39m\u001b[39m+\u001b[39mPlatName],df7[\u001b[39m'\u001b[39m\u001b[39mRevenuestrategy1\u001b[39m\u001b[39m'\u001b[39m\u001b[39m+\u001b[39mPlatName],df7[\u001b[39m'\u001b[39m\u001b[39mRevenuestrategy2\u001b[39m\u001b[39m'\u001b[39m\u001b[39m+\u001b[39mPlatName],df7[\u001b[39m'\u001b[39m\u001b[39mRevenuestrategy3\u001b[39m\u001b[39m'\u001b[39m\u001b[39m+\u001b[39mPlatName]))\n\u001b[0;32m     47\u001b[0m \u001b[39mreturn\u001b[39;00m df7\n",
      "File \u001b[1;32mc:\\ProgramData\\Anaconda3\\lib\\site-packages\\pandas\\core\\frame.py:3024\u001b[0m, in \u001b[0;36mDataFrame.__getitem__\u001b[1;34m(self, key)\u001b[0m\n\u001b[0;32m   3022\u001b[0m \u001b[39mif\u001b[39;00m \u001b[39mself\u001b[39m\u001b[39m.\u001b[39mcolumns\u001b[39m.\u001b[39mnlevels \u001b[39m>\u001b[39m \u001b[39m1\u001b[39m:\n\u001b[0;32m   3023\u001b[0m     \u001b[39mreturn\u001b[39;00m \u001b[39mself\u001b[39m\u001b[39m.\u001b[39m_getitem_multilevel(key)\n\u001b[1;32m-> 3024\u001b[0m indexer \u001b[39m=\u001b[39m \u001b[39mself\u001b[39;49m\u001b[39m.\u001b[39;49mcolumns\u001b[39m.\u001b[39;49mget_loc(key)\n\u001b[0;32m   3025\u001b[0m \u001b[39mif\u001b[39;00m is_integer(indexer):\n\u001b[0;32m   3026\u001b[0m     indexer \u001b[39m=\u001b[39m [indexer]\n",
      "File \u001b[1;32mc:\\ProgramData\\Anaconda3\\lib\\site-packages\\pandas\\core\\indexes\\base.py:3082\u001b[0m, in \u001b[0;36mIndex.get_loc\u001b[1;34m(self, key, method, tolerance)\u001b[0m\n\u001b[0;32m   3080\u001b[0m         \u001b[39mreturn\u001b[39;00m \u001b[39mself\u001b[39m\u001b[39m.\u001b[39m_engine\u001b[39m.\u001b[39mget_loc(casted_key)\n\u001b[0;32m   3081\u001b[0m     \u001b[39mexcept\u001b[39;00m \u001b[39mKeyError\u001b[39;00m \u001b[39mas\u001b[39;00m err:\n\u001b[1;32m-> 3082\u001b[0m         \u001b[39mraise\u001b[39;00m \u001b[39mKeyError\u001b[39;00m(key) \u001b[39mfrom\u001b[39;00m \u001b[39merr\u001b[39;00m\n\u001b[0;32m   3084\u001b[0m \u001b[39mif\u001b[39;00m tolerance \u001b[39mis\u001b[39;00m \u001b[39mnot\u001b[39;00m \u001b[39mNone\u001b[39;00m:\n\u001b[0;32m   3085\u001b[0m     tolerance \u001b[39m=\u001b[39m \u001b[39mself\u001b[39m\u001b[39m.\u001b[39m_convert_tolerance(tolerance, np\u001b[39m.\u001b[39masarray(key))\n",
      "\u001b[1;31mKeyError\u001b[0m: 'Revenuestrategy3Amazon'"
     ]
    }
   ],
   "source": [
    "'''Input:\n",
    "        CID\n",
    "        Demand_index\n",
    "        Platform\n",
    "        Strategy'''\n",
    "\n",
    "result = workflow()"
   ]
  },
  {
   "cell_type": "markdown",
   "metadata": {},
   "source": [
    "### Visualization"
   ]
  },
  {
   "cell_type": "code",
   "execution_count": 18,
   "metadata": {},
   "outputs": [],
   "source": [
    "# x：日期 datatype: datetime\n",
    "# y1：不同策略revenue差值 series\n",
    "# y2: 该策略的价格 series\n",
    "# 最佳策略的strategy price 以及 culminative revenue\n",
    "def Visualization(x ,y1,y2):   \n",
    "    # df2 = result\n",
    "    fig = plt.figure(figsize=(8, 6), dpi=100)\n",
    "    ax1 = fig.add_subplot(111)\n",
    "    ax1.fill_between(x, np.cumsum(y1), color=\"skyblue\", alpha=0.2, label=\"Cumulative Difference\")\n",
    "    ax1.plot(x, np.cumsum(y1), color=\"Slateblue\", alpha=0.6)\n",
    "    ax1.legend(loc=\"upper left\")\n",
    "    ax1.set_ylabel('Revenue Contribution')\n",
    "    ax1.set_xlabel('Date')\n",
    "    ax2 = ax1.twinx()  # this is the important function\n",
    "    ax2.plot(x, y2, color='darkorange',alpha=0.7, label=\"Price\")\n",
    "    ax2.legend(loc=\"upper center\")\n",
    "    ax2.set_ylabel('Price')\n",
    "    plt.xticks(pd.date_range('2020-06','2022-12',freq='4m'))\n",
    "    plt.show()\n",
    "\n"
   ]
  },
  {
   "cell_type": "code",
   "execution_count": 27,
   "metadata": {},
   "outputs": [
    {
     "data": {
      "image/png": "[encoded data removed]",
      "text/plain": [
       "<Figure size 640x480 with 2 Axes>"
      ]
     },
     "metadata": {},
     "output_type": "display_data"
    }
   ],
   "source": [
    "df3=result.iloc[:,2:5]\n",
    "df4=result.iloc[:,2:5]\n",
    "\n",
    "for i in range(1,df4.shape[0]):\n",
    "  df4.iloc[i,:]=(100*(df3.iloc[(i),:]-df3.iloc[i-1,:])/df3.iloc[i,:])\n",
    "  i=i+1\n",
    "\n",
    "df_correlation=df4.corr()\n",
    "ax = sns.heatmap(df_correlation)"
   ]
  },
  {
   "cell_type": "code",
   "execution_count": 23,
   "metadata": {},
   "outputs": [],
   "source": [
    "# origin: origin revenue \n",
    "# revenueS1..3 : Total revenue for strategy 1 to 3\n",
    "#                datatype: Dataframe\n",
    "def visualizeRevenue(origin,revenueS1,revenueS2,revenueS3):\n",
    "    label=['original', 'strategy1','strategy2','strategy3']\n",
    "    revenue_value=[origin.sum(),revenueS1.sum(),revenueS2.sum(),revenueS3.sum()]\n",
    "    fig = plt.figure(figsize=(6, 4), dpi=100)\n",
    "    plt.bar(label,revenue_value, color='skyblue')\n",
    "    plt.axhline(origin.sum(),color='black',alpha=0.7,linestyle='--')\n",
    "    plt.title(\"Total revenue of different strategies\")\n"
   ]
  }
 ],
 "metadata": {
  "kernelspec": {
   "display_name": "Python 3.8.8 ('base')",
   "language": "python",
   "name": "python3"
  },
  "language_info": {
   "codemirror_mode": {
    "name": "ipython",
    "version": 3
   },
   "file_extension": ".py",
   "mimetype": "text/x-python",
   "name": "python",
   "nbconvert_exporter": "python",
   "pygments_lexer": "ipython3",
   "version": "3.8.8"
  },
  "orig_nbformat": 4,
  "vscode": {
   "interpreter": {
    "hash": "ad2bdc8ecc057115af97d19610ffacc2b4e99fae6737bb82f5d7fb13d2f2c186"
   }
  }
 },
 "nbformat": 4,
 "nbformat_minor": 2
}
